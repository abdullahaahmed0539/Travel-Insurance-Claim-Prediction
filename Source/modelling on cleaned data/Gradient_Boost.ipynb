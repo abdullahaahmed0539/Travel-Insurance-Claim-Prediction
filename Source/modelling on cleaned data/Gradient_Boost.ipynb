{
  "nbformat": 4,
  "nbformat_minor": 0,
  "metadata": {
    "colab": {
      "name": "Gradient Boost.ipynb",
      "provenance": [],
      "collapsed_sections": [],
      "toc_visible": true,
      "machine_shape": "hm"
    },
    "kernelspec": {
      "name": "python3",
      "display_name": "Python 3"
    }
  },
  "cells": [
    {
      "cell_type": "markdown",
      "metadata": {
        "id": "0MRC0e0KhQ0S"
      },
      "source": [
        "\n",
        "\n",
        "```\n",
        "# This is formatted as code\n",
        "```\n",
        "\n",
        "# Gradient Boost"
      ]
    },
    {
      "cell_type": "markdown",
      "metadata": {
        "id": "LWd1UlMnhT2s"
      },
      "source": [
        "## Importing the libraries"
      ]
    },
    {
      "cell_type": "code",
      "metadata": {
        "id": "YvGPUQaHhXfL"
      },
      "source": [
        "import numpy as np\n",
        "import matplotlib.pyplot as plt\n",
        "import pandas as pd\n",
        "from sklearn import metrics\n",
        "from sklearn.metrics import roc_curve\n",
        "from sklearn.metrics import roc_auc_score\n",
        "from sklearn import preprocessing\n",
        "from sklearn.metrics import accuracy_score"
      ],
      "execution_count": null,
      "outputs": []
    },
    {
      "cell_type": "markdown",
      "metadata": {
        "id": "K1VMqkGvhc3-"
      },
      "source": [
        "## Importing the dataset"
      ]
    },
    {
      "cell_type": "code",
      "metadata": {
        "id": "M52QDmyzhh9s"
      },
      "source": [
        "df1 = pd.read_csv('Cleaned Train_Data.csv')\n",
        "df2 = pd.read_csv('Cleaned Train_Labels.csv')\n",
        "df3 = pd.read_csv('Cleaned_test_data.csv')\n",
        "df4 = pd.read_csv('Cleaned_test_labels.csv')"
      ],
      "execution_count": null,
      "outputs": []
    },
    {
      "cell_type": "code",
      "metadata": {
        "id": "BiUK106Hf-JO"
      },
      "source": [
        "X_train = df1.iloc[:,:].values\n",
        "y_train = df2.iloc[:,:].values\n",
        "X_test =  df3.iloc[:,:].values\n",
        "y_test =  df4.iloc[:,:].values"
      ],
      "execution_count": null,
      "outputs": []
    },
    {
      "cell_type": "code",
      "metadata": {
        "id": "xpymPC1wgBqi"
      },
      "source": [
        "y_train = y_train.flatten() "
      ],
      "execution_count": null,
      "outputs": []
    },
    {
      "cell_type": "code",
      "metadata": {
        "id": "CUB_S6hGgEZN"
      },
      "source": [
        "y_test = y_test.flatten() "
      ],
      "execution_count": null,
      "outputs": []
    },
    {
      "cell_type": "markdown",
      "metadata": {
        "id": "bb6jCOCQiAmP"
      },
      "source": [
        "## Training the Gradient Boost on the Training set"
      ]
    },
    {
      "cell_type": "code",
      "metadata": {
        "id": "e0pFVAmciHQs"
      },
      "source": [
        "from sklearn.ensemble import GradientBoostingClassifier\n",
        "clf = GradientBoostingClassifier(n_estimators=500, learning_rate=1.0,max_depth=1, random_state=0).fit(X_train, y_train)\n"
      ],
      "execution_count": null,
      "outputs": []
    },
    {
      "cell_type": "markdown",
      "metadata": {
        "id": "vKYVQH-l5NpE"
      },
      "source": [
        "## Predicting the Test set results"
      ]
    },
    {
      "cell_type": "code",
      "metadata": {
        "id": "p6VMTb2O4hwM",
        "colab": {
          "base_uri": "https://localhost:8080/"
        },
        "outputId": "3c1a99dd-3923-40b6-f9a8-710e27c460c3"
      },
      "source": [
        "y_pred = clf.predict(X_test)\n",
        "print(np.concatenate((y_pred.reshape(len(y_pred),1), y_test.reshape(len(y_test),1)),1))"
      ],
      "execution_count": null,
      "outputs": [
        {
          "output_type": "stream",
          "text": [
            "[[1 1]\n",
            " [0 0]\n",
            " [0 0]\n",
            " ...\n",
            " [0 0]\n",
            " [0 0]\n",
            " [0 0]]\n"
          ],
          "name": "stdout"
        }
      ]
    },
    {
      "cell_type": "markdown",
      "metadata": {
        "id": "h4Hwj34ziWQW"
      },
      "source": [
        "## Making the Confusion Matrix"
      ]
    },
    {
      "cell_type": "code",
      "metadata": {
        "id": "D6bpZwUiiXic",
        "colab": {
          "base_uri": "https://localhost:8080/"
        },
        "outputId": "0a679cb2-b9dd-401a-e916-4c709d0cd404"
      },
      "source": [
        "from sklearn.metrics import confusion_matrix, accuracy_score\n",
        "cm = confusion_matrix(y_test, y_pred)\n",
        "print(cm)\n",
        "accuracy_score(y_test, y_pred)"
      ],
      "execution_count": null,
      "outputs": [
        {
          "output_type": "stream",
          "text": [
            "[[8762  745]\n",
            " [  99   46]]\n"
          ],
          "name": "stdout"
        },
        {
          "output_type": "execute_result",
          "data": {
            "text/plain": [
              "0.9125569830087028"
            ]
          },
          "metadata": {
            "tags": []
          },
          "execution_count": 14
        }
      ]
    },
    {
      "cell_type": "code",
      "metadata": {
        "id": "a_3xCXW8gReF"
      },
      "source": [
        "# generate a no claim prediction (majority class)\n",
        "default_probs = [0 for _ in range(len(y_test))]\n",
        "\n",
        "#Probabilities of the predictions\n",
        "GB_prob = clf.predict_proba(X_test)\n",
        "\n",
        "#We will use probabilities for the positive class only\n",
        "GB_prob = GB_prob[:,1]\n",
        "\n",
        "default_auc = roc_auc_score(y_test, default_probs)\n",
        "GB_auc = roc_auc_score(y_test, GB_prob)"
      ],
      "execution_count": null,
      "outputs": []
    },
    {
      "cell_type": "code",
      "metadata": {
        "colab": {
          "base_uri": "https://localhost:8080/"
        },
        "id": "Rg7CWACQgV2S",
        "outputId": "f1309e85-3790-4c61-a01d-582447d4e593"
      },
      "source": [
        "# summarize scores\n",
        "print('No Claim: ROC AUC=%.3f' % (default_auc))\n",
        "print('Gradient Boost : ROC AUC=%.3f' % (GB_auc))"
      ],
      "execution_count": null,
      "outputs": [
        {
          "output_type": "stream",
          "text": [
            "No Claim: ROC AUC=0.500\n",
            "Gradient Boost : ROC AUC=0.770\n"
          ],
          "name": "stdout"
        }
      ]
    },
    {
      "cell_type": "code",
      "metadata": {
        "id": "-M3I2zxygXk9"
      },
      "source": [
        "# calculate roc curves\n",
        "default_fpr, default_tpr, _ = roc_curve(y_test, default_probs)\n",
        "rf_fpr, rf_tpr, _ = roc_curve(y_test, GB_prob)"
      ],
      "execution_count": null,
      "outputs": []
    },
    {
      "cell_type": "code",
      "metadata": {
        "colab": {
          "base_uri": "https://localhost:8080/",
          "height": 279
        },
        "id": "EQ1WJd_4gZN5",
        "outputId": "f29aec87-4692-4562-b683-da620f45ed67"
      },
      "source": [
        "# plot the roc curve for the model\n",
        "plt.plot(default_fpr, default_tpr, linestyle='--', label='No Claim')\n",
        "plt.plot(rf_fpr, rf_tpr, marker='.', label='Gradient Boost')\n",
        "# axis labels\n",
        "plt.xlabel('False Positive Rate')\n",
        "plt.ylabel('True Positive Rate')\n",
        "# show the legend\n",
        "plt.legend()\n",
        "# show the plot\n",
        "plt.show()"
      ],
      "execution_count": null,
      "outputs": [
        {
          "output_type": "display_data",
          "data": {
            "image/png": "[encoded data removed]",
            "text/plain": [
              "<Figure size 432x288 with 1 Axes>"
            ]
          },
          "metadata": {
            "tags": [],
            "needs_background": "light"
          }
        }
      ]
    }
  ]
}